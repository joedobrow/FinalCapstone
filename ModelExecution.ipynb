{
 "cells": [
  {
   "cell_type": "markdown",
   "metadata": {},
   "source": [
    "<h2> Model Implementation"
   ]
  },
  {
   "cell_type": "code",
   "execution_count": 2,
   "metadata": {},
   "outputs": [],
   "source": [
    "import pandas as pd\n",
    "import numpy as np\n",
    "import time\n",
    "import random\n",
    "\n",
    "from surprise.prediction_algorithms.matrix_factorization import SVD\n",
    "from surprise import Reader\n",
    "from surprise import Dataset\n",
    "from surprise.model_selection import cross_validate"
   ]
  },
  {
   "cell_type": "code",
   "execution_count": 3,
   "metadata": {},
   "outputs": [],
   "source": [
    "# Load the data\n",
    "df_ratings = pd.read_csv('/DataScience/Final Capstone Files/ModelRatings.csv')\n",
    "df_books = pd.read_csv('/DataScience/Final Capstone Files/ModelBooks.csv')\n",
    "\n",
    "# Global Parameters\n",
    "SVD_FACTORS = 60\n",
    "SVD_EPOCHS = 20"
   ]
  },
  {
   "cell_type": "markdown",
   "metadata": {},
   "source": [
    "Higher numbers improve accuracy but increase runtime. Higher factors and epochs don't improve RMSE much, but seem to diversify (and therefore improve) recommendations anecdotally."
   ]
  },
  {
   "cell_type": "code",
   "execution_count": 13,
   "metadata": {},
   "outputs": [],
   "source": [
    "def get_top_isbn(cluster, n):\n",
    "    # Returns the nth best ISBN from a given cluster, and returns false if n > number of isbns in cluster\n",
    "    if n > len(df_books[df_books.Cluster == cluster]):\n",
    "        return False\n",
    "    sorted_scores = sorted(df_books.PopularityScore[df_books.Cluster == cluster])\n",
    "    return df_books.ISBN[(df_books.PopularityScore == sorted_scores[-n]) & (df_books.Cluster == cluster)].iloc[0]\n",
    "\n",
    "def get_titles(isbn_list):\n",
    "    # Converts a list of ISBNs into their titles. ISBNs need to be in list form, so a singular string\n",
    "    # of an ISBN should be put into brackets.\n",
    "    title = []\n",
    "    for isbn in isbn_list:\n",
    "        title.append(df_books.Title[df_books.ISBN == isbn].iloc[0])\n",
    "    return title\n",
    "\n",
    "def recommend_books_for_userid(userid, top_n):\n",
    "    # Recommend the top n books for a user in the database.\n",
    "    # Returns the singular top ISBN for the top n clusters. if they're already read, \n",
    "    # return the next best in that cluster.\n",
    "    cluster_ratings, tops, recommendations = [], [], []\n",
    "    svd = SVD(n_factors = SVD_FACTORS, n_epochs=SVD_EPOCHS)\n",
    "    reader = Reader(rating_scale=(1,10))\n",
    "    data = Dataset.load_from_df(df_ratings[['User', 'Cluster', 'Rating']], reader)\n",
    "    svd.fit(data.build_full_trainset())\n",
    "        \n",
    "    for cluster in range(len(df_ratings.Cluster.unique())):\n",
    "        cluster_ratings.append(svd.predict(userid, cluster)[3])\n",
    "    \n",
    "    while len(tops) < top_n:\n",
    "        for i in range(len(cluster_ratings)):\n",
    "            if cluster_ratings[i] == max(cluster_ratings):\n",
    "                tops.append(i)\n",
    "                cluster_ratings[i] = 0\n",
    "                break\n",
    "                \n",
    "    for cluster in tops:\n",
    "        go, n = True, 1\n",
    "        while go == True:\n",
    "            rec = get_top_isbn(cluster, n)\n",
    "            if rec not in df_ratings.ISBN[df_ratings.User == userid]:\n",
    "                recommendations.append(rec)\n",
    "                go = False\n",
    "            n += 1\n",
    "    return recommendations\n",
    "\n",
    "def recommend_books_for_new_data(isbn_list, rating_list, top_n):\n",
    "    # Takes as inputs a list of ISBNs a second list of ordered ratings, and returns the top n ISBNs.    \n",
    "    cluster_list = []\n",
    "    for isbn in isbn_list:\n",
    "        cluster_list.append(df_books.Cluster[df_books.ISBN == isbn].iloc[0]) # Convert isbn_list to clusters\n",
    "    new_user = pd.DataFrame()\n",
    "    new_user['User'] = [-1] * len(cluster_list) # Set userid as -1 becuase that isn't in our data\n",
    "    new_user['Cluster'] = cluster_list\n",
    "    new_user['Rating'] = rating_list\n",
    "    \n",
    "    reader = Reader(rating_scale=(1,10))\n",
    "    svd = SVD(n_factors=SVD_FACTORS, n_epochs=SVD_EPOCHS)\n",
    "    train_set = pd.concat([df_ratings[['User', 'Cluster', 'Rating']], new_user])\n",
    "    train_set.reset_index(drop=True, inplace=True)\n",
    "    data = Dataset.load_from_df(train_set, reader)\n",
    "    \n",
    "    svd.fit(data.build_full_trainset())\n",
    "    cluster_preds = [] # Gets populated with SVD predictions for each cluster\n",
    "    for cluster in range(len(train_set.Cluster.unique())):\n",
    "        cluster_preds.append(svd.predict(-1, cluster, verbose=False)[3])\n",
    "    \n",
    "    tops = [] # Finds the highest rated n clusters according to SVD\n",
    "    while len(tops) < top_n:\n",
    "        for pred in range(len(cluster_preds)):\n",
    "            if cluster_preds[pred] == max(cluster_preds):\n",
    "                tops.append(pred)\n",
    "                cluster_preds[pred] = 0\n",
    "                break\n",
    "    \n",
    "    recommendations = [] # For each of the clusters, find the best book that hasn't been read yet.\n",
    "    for cluster in tops:\n",
    "        go, n = True, 1\n",
    "        while go == True:\n",
    "            rec = get_top_isbn(cluster, n)\n",
    "            if rec not in isbn_list:\n",
    "                recommendations.append(rec)\n",
    "                go = False\n",
    "            n += 1           \n",
    "    return recommendations\n",
    "\n",
    "def input_ratings(max_ratings):\n",
    "    # This function is a user facing way to gather books they have read and what they rate them in order\n",
    "    # to generate recommendations.\n",
    "    print(\"Please rate books 1 - 10, press x to begin recommending early, any other input means not read\")\n",
    "    isbns, ratings, asked_books, go = [], [], [], True\n",
    "    while (len(isbns) < max_ratings) & (go == True):\n",
    "        book = -1\n",
    "        while(len(df_ratings[df_ratings.ISBN == book]) < 30) or (book in asked_books):\n",
    "            book = random.choice(df_books.ISBN)\n",
    "        asked_books.append(book)\n",
    "        user_input = input('{} '.format(get_titles([book])[0]))\n",
    "        if user_input in ['1','2','3','4','5','6','7','8','9','10']:\n",
    "            isbns.append(book)\n",
    "            ratings.append(user_input)\n",
    "        elif user_input == 'x':\n",
    "            go = False\n",
    "    print(get_titles(recommend_books_for_new_data(isbns, ratings, 3)))"
   ]
  },
  {
   "cell_type": "markdown",
   "metadata": {},
   "source": [
    "<h2> Examples for each of the 5 functions"
   ]
  },
  {
   "cell_type": "code",
   "execution_count": 6,
   "metadata": {},
   "outputs": [
    {
     "name": "stdout",
     "output_type": "stream",
     "text": [
      "['0070064601']\n",
      "['0152050167']\n",
      "['0446365505']\n"
     ]
    }
   ],
   "source": [
    "print([get_top_isbn(2, 1)])\n",
    "print([get_top_isbn(32, 1)])\n",
    "print([get_top_isbn(0, 5)])"
   ]
  },
  {
   "cell_type": "markdown",
   "metadata": {},
   "source": [
    "These 3 ISBNs are: \n",
    "1. The best book from the 2nd cluster\n",
    "2. The best book from the 32nd cluster\n",
    "3. The 5th best book from the 0th cluster."
   ]
  },
  {
   "cell_type": "code",
   "execution_count": 8,
   "metadata": {},
   "outputs": [
    {
     "name": "stdout",
     "output_type": "stream",
     "text": [
      "['Family: The Ties That Bind and Gag!']\n",
      "['The Whale Rider']\n",
      "['Pleading Guilty']\n"
     ]
    }
   ],
   "source": [
    "print(get_titles([get_top_isbn(2, 1)]))\n",
    "print(get_titles([get_top_isbn(32, 1)]))\n",
    "print(get_titles([get_top_isbn(0, 5)]))"
   ]
  },
  {
   "cell_type": "markdown",
   "metadata": {},
   "source": [
    "The 'get_titles' function converts ISBNs into titles"
   ]
  },
  {
   "cell_type": "code",
   "execution_count": 10,
   "metadata": {
    "scrolled": true
   },
   "outputs": [
    {
     "name": "stdout",
     "output_type": "stream",
     "text": [
      "['0345339738', '0060938455', '950491036X', '0394404289', '0440498058']\n",
      "['To Kill a Mockingbird', 'Night', 'Six by Seuss: A Treasury of Dr. Seuss Classics', 'Griffin &amp; Sabine: An Extraordinary Correspondence', 'Seabiscuit: An American Legend']\n"
     ]
    }
   ],
   "source": [
    "print(recommend_books_for_userid(df_ratings.User.unique()[37], 5))\n",
    "print(get_titles(recommend_books_for_userid(df_ratings.User.unique()[37], 5)))"
   ]
  },
  {
   "cell_type": "markdown",
   "metadata": {},
   "source": [
    "The top 5 recommended books for the 37th user in our data. Note that none of these books have been previously rated by this user. The recommender always returns new books."
   ]
  },
  {
   "cell_type": "code",
   "execution_count": 18,
   "metadata": {},
   "outputs": [
    {
     "name": "stdout",
     "output_type": "stream",
     "text": [
      "New Ratings:\n",
      "['El Senor De Los Anillos: LA Comunidad Del Anillo (Lord of the Rings (Spanish))', 'UN Viejo Que Leia Novelas De Amor/the Old Men Who Read Love Stories (ColecciÃ³n Andanzas)', 'La Sombra Del Viento/The Shadow Of The Wind', 'La Sombra del Viento'] \n",
      "\n",
      "My Recommendations:\n",
      "['El principito (Spanish)', '100 Selected Poems by E. E. Cummings', 'The Return of the King (The Lord of the Rings, Part 3)', 'The Fellowship of the Ring (The Lord of the Rings, Part 1)', \"I Know This Much Is True (Oprah's Book Club)\"]\n"
     ]
    }
   ],
   "source": [
    "isbns = ['8445071408', '8472236552', '8408043641', '950491036X']\n",
    "ratings = [10, 10, 10, 10]\n",
    "print('New Ratings:')\n",
    "print(get_titles(isbns), '\\n')\n",
    "print('My Recommendations:')\n",
    "print(get_titles(recommend_books_for_new_data(isbns, ratings, 5)))"
   ]
  },
  {
   "cell_type": "markdown",
   "metadata": {},
   "source": [
    "I tried entering 4 books in Spanish and rating them 10/10 and the recommender system returns firstly another book in Spanish! It only returns 1 Spanish book because there is only 1 cluster of books in Spanish. The other recommendations must come from clusters that are aggreable to Spanish speakers according to my data."
   ]
  },
  {
   "cell_type": "code",
   "execution_count": 20,
   "metadata": {},
   "outputs": [
    {
     "name": "stdout",
     "output_type": "stream",
     "text": [
      "New Ratings:\n",
      "['El Senor De Los Anillos: LA Comunidad Del Anillo (Lord of the Rings (Spanish))', 'UN Viejo Que Leia Novelas De Amor/the Old Men Who Read Love Stories (ColecciÃ³n Andanzas)', 'La Sombra Del Viento/The Shadow Of The Wind', 'La Sombra del Viento'] \n",
      "\n",
      "My Recommendations:\n",
      "['The Meaning Of Life', 'Traveling Light: Releasing the Burdens You Were Never Intended to Bear', \"Ender's Game (Ender Wiggins Saga (Paperback))\", 'The Two Towers (The Lord of the Rings, Part 2)', 'The Joy Luck Club']\n"
     ]
    }
   ],
   "source": [
    "isbns = ['8445071408', '8472236552', '8408043641', '950491036X']\n",
    "ratings = [1, 1, 1, 1]\n",
    "print('New Ratings:')\n",
    "print(get_titles(isbns), '\\n')\n",
    "print('My Recommendations:')\n",
    "print(get_titles(recommend_books_for_new_data(isbns, ratings, 5)))"
   ]
  },
  {
   "cell_type": "markdown",
   "metadata": {},
   "source": [
    "The same thing, but I rated the 4 Spanish books a 1/10 to see what would happen. It did not recommend any spanish books... But seems to recommend Lord of the Rings very highly regardless of the users taste in Spanish speaking books."
   ]
  },
  {
   "cell_type": "markdown",
   "metadata": {},
   "source": [
    "The last function is a user-interactive function that must be used, not shown."
   ]
  },
  {
   "cell_type": "code",
   "execution_count": null,
   "metadata": {},
   "outputs": [],
   "source": []
  }
 ],
 "metadata": {
  "kernelspec": {
   "display_name": "Python 3",
   "language": "python",
   "name": "python3"
  },
  "language_info": {
   "codemirror_mode": {
    "name": "ipython",
    "version": 3
   },
   "file_extension": ".py",
   "mimetype": "text/x-python",
   "name": "python",
   "nbconvert_exporter": "python",
   "pygments_lexer": "ipython3",
   "version": "3.7.3"
  }
 },
 "nbformat": 4,
 "nbformat_minor": 2
}
